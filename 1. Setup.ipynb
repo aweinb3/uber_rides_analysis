{
 "cells": [
  {
   "cell_type": "markdown",
   "id": "47639d25",
   "metadata": {},
   "source": [
    "# Setup and Organization\n",
    "\n",
    "DATA FROM: https://github.com/fivethirtyeight/uber-tlc-foil-response/blob/master/README.md\n",
    "\n",
    "1. double check data quality for 2014 files\n",
    "2. combine 2014 files and export for SQL analysis\n",
    "3. check 2015 file quality"
   ]
  },
  {
   "cell_type": "markdown",
   "id": "25242a4f",
   "metadata": {},
   "source": [
    "## Checking 2014 Data\n",
    "- Check/update dtypes\n",
    "- Make sure each file goes to end of month\n",
    "- Check for nulls"
   ]
  },
  {
   "cell_type": "code",
   "execution_count": null,
   "id": "313d2d80",
   "metadata": {},
   "outputs": [],
   "source": [
    "import pandas as pd\n",
    "import glob\n",
    "\n",
    "files = glob.glob('2014/uber-raw-data*.csv')\n",
    "print(f\"found {len(files)} files\")"
   ]
  },
  {
   "cell_type": "markdown",
   "id": "775b1abe",
   "metadata": {},
   "source": [
    "### Checking dtypes"
   ]
  },
  {
   "cell_type": "code",
   "execution_count": null,
   "id": "aa11a951",
   "metadata": {},
   "outputs": [],
   "source": [
    "for file in files:\n",
    "    print(file) # prints file name\n",
    "    df = pd.read_csv(file) # converts to interactive df\n",
    "    print(df.dtypes) # finds dtype for each column "
   ]
  },
  {
   "cell_type": "markdown",
   "id": "9a373240",
   "metadata": {},
   "source": [
    "Lat and Lon looks good, Date/Time should be converted to datetime.\n",
    "Base we'll leave for now, may change in SQL."
   ]
  },
  {
   "cell_type": "markdown",
   "id": "058111e4",
   "metadata": {},
   "source": [
    "### Updating dtype & checking ensuring full month of data"
   ]
  },
  {
   "cell_type": "code",
   "execution_count": null,
   "id": "02a3b0e6",
   "metadata": {},
   "outputs": [],
   "source": [
    "# updating dtype and checking max date (ensure its end of the month)\n",
    "for file in files:\n",
    "    max_date = pd.to_datetime(pd.read_csv(file)['Date/Time']).max()\n",
    "    df = pd.read_csv(file)\n",
    "    print(f\"{file}: {max_date}, monthly rides = {len(df)}\")"
   ]
  },
  {
   "cell_type": "markdown",
   "id": "a9245411",
   "metadata": {},
   "source": [
    "### Checking for nulls"
   ]
  },
  {
   "cell_type": "code",
   "execution_count": null,
   "id": "c7a84eb5",
   "metadata": {},
   "outputs": [],
   "source": [
    "# first look at full files, will dive in if necessary\n",
    "for file in files:\n",
    "    df = pd.read_csv(file)\n",
    "    num_null = df.isnull().sum().sum()\n",
    "    print(f\"{file}: {num_null}\")"
   ]
  },
  {
   "cell_type": "markdown",
   "id": "2f300c30",
   "metadata": {},
   "source": [
    "no nulls"
   ]
  },
  {
   "cell_type": "markdown",
   "id": "cece300e",
   "metadata": {},
   "source": [
    "## Merging 2014 files to 1 csv"
   ]
  },
  {
   "cell_type": "code",
   "execution_count": null,
   "id": "6ada04c5",
   "metadata": {},
   "outputs": [],
   "source": [
    "# Creates a list of DataFrames using the files from the 'Uber/tables' directory\n",
    "dfs = [pd.read_csv(file, parse_dates=['Date/Time']) for file in files]\n",
    "\n",
    "# combines list into one DataFrame\n",
    "combined = pd.concat(dfs, ignore_index=True).sort_values('Date/Time')\n",
    "\n",
    "# make sure matches with earlier row counts\n",
    "print(combined.shape)"
   ]
  },
  {
   "cell_type": "code",
   "execution_count": null,
   "id": "2ed3d1d4",
   "metadata": {},
   "outputs": [],
   "source": [
    "# exports new combined DataFrame into a csv\n",
    "combined.to_csv('cleaned-apr14-sep14.csv', index=True)"
   ]
  },
  {
   "cell_type": "markdown",
   "id": "0794d26d",
   "metadata": {},
   "source": [
    "## Checking 2015 data"
   ]
  },
  {
   "cell_type": "code",
   "execution_count": 15,
   "id": "5447d826",
   "metadata": {},
   "outputs": [
    {
     "name": "stdout",
     "output_type": "stream",
     "text": [
      "Dispatching_base_num    object\n",
      "Pickup_date             object\n",
      "Affiliated_base_num     object\n",
      "locationID               int64\n",
      "dtype: object\n",
      "Index(['Dispatching_base_num', 'Pickup_date', 'Affiliated_base_num',\n",
      "       'locationID'],\n",
      "      dtype='object')\n",
      "(14270479, 4)\n"
     ]
    }
   ],
   "source": [
    "# import csv as a DataFrame\n",
    "df2 = pd.read_csv('2015/uber-raw-data-jan15-june15.csv')\n",
    "\n",
    "# check info\n",
    "print(df2.dtypes)\n",
    "print(df2.columns)\n",
    "print(df2.shape)\n"
   ]
  },
  {
   "cell_type": "code",
   "execution_count": null,
   "id": "ac041409",
   "metadata": {},
   "outputs": [
    {
     "name": "stdout",
     "output_type": "stream",
     "text": [
      "Index(['dispatching_base_num', 'pickup_date', 'affiliated_base_num',\n",
      "       'locationid'],\n",
      "      dtype='object')\n",
      "dispatching_base_num            object\n",
      "pickup_date             datetime64[ns]\n",
      "affiliated_base_num             object\n",
      "locationid                       int64\n",
      "dtype: object\n"
     ]
    }
   ],
   "source": [
    "# clean column names\n",
    "df2.columns = df2.columns.str.lower()\n",
    "\n",
    "# change 'pickup_date' to datetime\n",
    "df2['pickup_date'] = pd.to_datetime(df2['pickup_date'])\n",
    "\n",
    "# check changes\n",
    "print(df2.columns)\n",
    "print(df2.dtypes)"
   ]
  },
  {
   "cell_type": "code",
   "execution_count": 22,
   "id": "68125e3e",
   "metadata": {},
   "outputs": [
    {
     "name": "stdout",
     "output_type": "stream",
     "text": [
      "                    pickup_date                             \n",
      "                            min                 max    count\n",
      "pickup_date                                                 \n",
      "2015-01     2015-01-01 00:00:05 2015-01-31 23:59:59  1953801\n",
      "2015-02     2015-02-01 00:00:00 2015-02-28 23:59:59  2263620\n",
      "2015-03     2015-03-01 00:01:00 2015-03-31 23:59:00  2259773\n",
      "2015-04     2015-04-01 00:01:00 2015-04-30 23:59:00  2280837\n",
      "2015-05     2015-05-01 00:00:00 2015-05-31 23:59:00  2695553\n",
      "2015-06     2015-06-01 00:02:00 2015-06-30 23:59:00  2816895\n"
     ]
    }
   ],
   "source": [
    "# make sure each month is full\n",
    "monthly_stats = df2.groupby(df2['pickup_date'].dt.to_period('M')).agg({\n",
    "    'pickup_date':['min', 'max', 'count']\n",
    "})\n",
    "\n",
    "print(monthly_stats)\n"
   ]
  },
  {
   "cell_type": "code",
   "execution_count": null,
   "id": "0301f924",
   "metadata": {},
   "outputs": [
    {
     "name": "stdout",
     "output_type": "stream",
     "text": [
      "dispatching_base_num         0\n",
      "pickup_date                  0\n",
      "affiliated_base_num     162195\n",
      "locationid                   0\n",
      "dtype: int64\n"
     ]
    }
   ],
   "source": [
    "# check nulls\n",
    "print(df2.isnull().sum())\n",
    "\n",
    "# lots of null in affiliated_base_num but that doesn't matter for our analysis"
   ]
  },
  {
   "cell_type": "markdown",
   "id": "8e2d1a04",
   "metadata": {},
   "source": [
    "no changes made to 2015 stuff so doesn't need to be exported :)"
   ]
  }
 ],
 "metadata": {
  "kernelspec": {
   "display_name": "base",
   "language": "python",
   "name": "python3"
  },
  "language_info": {
   "codemirror_mode": {
    "name": "ipython",
    "version": 3
   },
   "file_extension": ".py",
   "mimetype": "text/x-python",
   "name": "python",
   "nbconvert_exporter": "python",
   "pygments_lexer": "ipython3",
   "version": "3.9.21"
  }
 },
 "nbformat": 4,
 "nbformat_minor": 5
}
